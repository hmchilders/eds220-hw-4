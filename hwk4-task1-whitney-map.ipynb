{
 "cells": [
  {
   "cell_type": "markdown",
   "id": "6ef54737-e891-4af0-8593-8b1a9887b99c",
   "metadata": {},
   "source": [
    "# Task 1 - LULC tile location map\n",
    "\n",
    "## General instructions\n",
    "\n",
    "First, update the following cell to have a link to your Homework 4 GitHub repository\n",
    "\n",
    "**UPDATE THIS LINK** https://github.com/hmchilders/eds220-hw-4\n",
    "\n",
    "Add comments for all your code and commit as needed. Err on the side of commenting and commiting too much for now.\n",
    "\n",
    "## Overview\n",
    "The goal of this task is to create a simple map showing the location of the LULC tile section we used in the previous discussion section relative to the state of California and Mount Whitney. \n",
    "\n",
    "## About the data\n",
    "\n",
    "In this task you will use two datsets:\n",
    "\n",
    "**First dataset**\n",
    "\n",
    "A small section of the GAP/LANDFIRE National Terrestrial Ecosystems data for 2011, from the US Geological Survey (USGS). This is a raster file with a 30 m x 30 m pixel resolution. Each cell in the raster has a number representing the type of land cover.\n",
    "\n",
    "The data was pre-processed in the Microsoft Planetary Computer to show a small region around Mount Whitney in California.\n",
    "\n",
    "Further information about the dataset can be accessed via the the dataset’s Digital Object Identifier (DOI) link:\n",
    "\n",
    "U.S. Geological Survey (USGS) Gap Analysis Project (GAP), 2016, GAP/LANDFIRE National Terrestrial Ecosystems 2011: U.S. Geological Survey data release, https://doi.org/10.5066/F7ZS2TM0.\n",
    "\n",
    "**Second dataset**\n",
    "\n",
    "A shapefile of CA Geographic Boundaries. \n",
    "This is a subset of the US Census Bureau's 2016 TIGER database, which only has the state boundary.\n",
    "[https://data.ca.gov/dataset/ca-geographic-boundaries/resource/3db1e426-fb51-44f5-82d5-a54d7c6e188b](https://data.ca.gov/dataset/ca-geographic-boundaries/resource/3db1e426-fb51-44f5-82d5-a54d7c6e188b)\n",
    "\n",
    "## File management\n",
    "All your data files must be  inside a directory named 'data'  **in your gitignore**. \n",
    "\n",
    "## Data access\n",
    "The .tif file (same as we used in discussion section) is in the Canvas-week7-homework zip file. The California shapefile will be directly accessed via its URL."
   ]
  },
  {
   "cell_type": "markdown",
   "id": "866e462d-2dc7-4a67-b08b-be182a37f73d",
   "metadata": {},
   "source": [
    "## FINAL CODE\n",
    "You will use the next cell at the end of the task. Leave it blank for now."
   ]
  },
  {
   "cell_type": "code",
   "execution_count": null,
   "id": "4bc3d98b-7091-4a65-8a3b-5206cf2276d8",
   "metadata": {},
   "outputs": [],
   "source": [
    "### ===== FINAL CODE ====="
   ]
  },
  {
   "cell_type": "markdown",
   "id": "0f4c3de1-7581-41e5-bc49-90a889b5ccb1",
   "metadata": {},
   "source": [
    "## Import libraries and functions"
   ]
  },
  {
   "cell_type": "code",
   "execution_count": 90,
   "id": "8d8ea3c8-eccd-4b7f-8823-bf62105aadc9",
   "metadata": {},
   "outputs": [],
   "source": [
    "# import libraries and functions here\n",
    "import os\n",
    "import numpy as np\n",
    "import pandas as pd\n",
    "import matplotlib.pyplot as plt\n",
    "import matplotlib.patches as mpatches\n",
    "import xarray as xr\n",
    "import rioxarray as rioxr\n",
    "import geopandas as gpd\n",
    "from shapely import Point\n",
    "from shapely.geometry import box\n",
    "import matplotlib.lines as mlines"
   ]
  },
  {
   "cell_type": "markdown",
   "id": "704b8e50-8e8c-4410-9cba-e3b67b909ef7",
   "metadata": {},
   "source": [
    "## Import data\n",
    "Use the next two cells to:\n",
    "\n",
    "1. Import the raster file and store it in a variable `lulc` and take a look at it.\n",
    "2. Import the CA shapefile directly from the URL using `gpd.read_file()` and take a look at it. You can get it by right-clicking on the \"Download\" button. Store it as a variable named `ca`."
   ]
  },
  {
   "cell_type": "code",
   "execution_count": 73,
   "id": "795dd4f7-9ebe-4966-8e3a-44b77711b5eb",
   "metadata": {},
   "outputs": [],
   "source": [
    "# Import the LU/LC data\n",
    "lulc = rioxr.open_rasterio(os.path.join(os.getcwd(),'data','land_cover.tif'))\n",
    "# Use the squeeze method to remove dimensions with length 1\n",
    "lulc = lulc.squeeze()\n",
    "#Remove coordinates associated with that dimension\n",
    "lulc = lulc.drop('band')"
   ]
  },
  {
   "cell_type": "code",
   "execution_count": 74,
   "id": "a66bfebc-22f2-49a8-a731-d499b315f9e4",
   "metadata": {},
   "outputs": [],
   "source": [
    "# Import the California Shape file and store it as a variable\n",
    "ca = gpd.read_file('https://data.ca.gov/dataset/e212e397-1277-4df3-8c22-40721b095f33/resource/3db1e426-fb51-44f5-82d5-a54d7c6e188b/download/ca-state-boundary.zip')"
   ]
  },
  {
   "cell_type": "markdown",
   "id": "b27d8aea-c7a2-4776-a0b2-283b22b98d36",
   "metadata": {
    "tags": []
   },
   "source": [
    "## Bounding box\n",
    "Create a `geopands.GeoDataFrame` named `bbox` with the lulc bounding box. "
   ]
  },
  {
   "cell_type": "code",
   "execution_count": 75,
   "id": "24525805-7c0a-4859-a257-d125eb08f9ea",
   "metadata": {
    "tags": []
   },
   "outputs": [
    {
     "data": {
      "text/plain": [
       "<AxesSubplot:>"
      ]
     },
     "execution_count": 75,
     "metadata": {},
     "output_type": "execute_result"
    },
    {
     "data": {
      "image/png": "[encoded data removed]",
      "text/plain": [
       "<Figure size 640x480 with 1 Axes>"
      ]
     },
     "metadata": {},
     "output_type": "display_data"
    }
   ],
   "source": [
    "#Create a bounding box using the bounds of the LU/LC Data\n",
    "lulc_bbox = gpd.GeoDataFrame(geometry = [box(*lulc.rio.bounds())], \n",
    "                           crs = lulc.rio.crs)\n",
    "#Plot the bounding box to check the output\n",
    "lulc_bbox.plot()"
   ]
  },
  {
   "cell_type": "markdown",
   "id": "ce2f5e10-c31b-4ee3-9715-d1062d8ff1d5",
   "metadata": {},
   "source": [
    "## Mount Whitney point\n",
    "Create a `geopands.GeoDataFrame` named `mt_whitney` having the coordinates of Mount Whitney as a single point. You will need to look up Mount Whitney's coordinates. HINT: [`shapely.Point()`](https://shapely.readthedocs.io/en/stable/reference/shapely.Point.html)"
   ]
  },
  {
   "cell_type": "code",
   "execution_count": 76,
   "id": "bd817fac-0186-475f-9187-17b8bb11d067",
   "metadata": {},
   "outputs": [],
   "source": [
    "#Use Shapely.Point to to turn the coordinates into a point\n",
    "coords = Point(-118.29199495, 36.578580925)\n",
    "#Create the mt_whitney point and save it as a geodataframe\n",
    "mt_whitney = gpd.GeoDataFrame(index=[0], crs='EPSG:4326', geometry=[coords])"
   ]
  },
  {
   "cell_type": "code",
   "execution_count": 77,
   "id": "e162e3f9-90f0-4633-8c2c-3b9dafc89018",
   "metadata": {
    "tags": []
   },
   "outputs": [
    {
     "data": {
      "text/html": [
       "<div>\n",
       "<style scoped>\n",
       "    .dataframe tbody tr th:only-of-type {\n",
       "        vertical-align: middle;\n",
       "    }\n",
       "\n",
       "    .dataframe tbody tr th {\n",
       "        vertical-align: top;\n",
       "    }\n",
       "\n",
       "    .dataframe thead th {\n",
       "        text-align: right;\n",
       "    }\n",
       "</style>\n",
       "<table border=\"1\" class=\"dataframe\">\n",
       "  <thead>\n",
       "    <tr style=\"text-align: right;\">\n",
       "      <th></th>\n",
       "      <th>geometry</th>\n",
       "    </tr>\n",
       "  </thead>\n",
       "  <tbody>\n",
       "    <tr>\n",
       "      <th>0</th>\n",
       "      <td>POINT (-118.29199 36.57858)</td>\n",
       "    </tr>\n",
       "  </tbody>\n",
       "</table>\n",
       "</div>"
      ],
      "text/plain": [
       "                      geometry\n",
       "0  POINT (-118.29199 36.57858)"
      ]
     },
     "execution_count": 77,
     "metadata": {},
     "output_type": "execute_result"
    }
   ],
   "source": []
  },
  {
   "cell_type": "code",
   "execution_count": null,
   "id": "4e9a5d96-e367-4a60-88dd-33f0b101fe67",
   "metadata": {},
   "outputs": [],
   "source": []
  },
  {
   "cell_type": "markdown",
   "id": "0864cce5-c615-48b4-843f-c630b5907255",
   "metadata": {},
   "source": [
    "## Updates\n",
    "If there are any updates needed to the data, perform them in the next cells (you may add as many as you need). \n",
    "At the top of each one, include a comment explaining what is happening in that cell's code."
   ]
  },
  {
   "cell_type": "code",
   "execution_count": 80,
   "id": "e33ffffa-ca1d-46fc-a309-6e31d757fbb9",
   "metadata": {},
   "outputs": [],
   "source": [
    "#Reproject the LU/LC Data to the ca CRS\n",
    "lulc_bbox = lulc_bbox.to_crs(ca.crs)\n",
    "#Reproject the point to the same CRS as the LU/LC Data\n",
    "mt_whitney = mt_whitney.to_crs(lulc.rio.crs)"
   ]
  },
  {
   "cell_type": "code",
   "execution_count": null,
   "id": "26c19fb1-d9f0-4930-96ce-d027ef58d561",
   "metadata": {},
   "outputs": [],
   "source": []
  },
  {
   "cell_type": "markdown",
   "id": "01bced89-317f-4ad0-bf7f-19f930afe790",
   "metadata": {},
   "source": [
    "## Map\n",
    "\n",
    "Create a map showing `bbox`, `ca` and `mt_whitney` similar to the one in the overview section. \n",
    "It must have at least the customizations shown in the sample map. \n",
    "\n",
    "HINTS:\n",
    "1. to change the `marker_style`: https://matplotlib.org/stable/gallery/lines_bars_and_markers/marker_reference.html\n",
    "2. to add the marker to the legend: https://matplotlib.org/stable/users/explain/axes/legend_guide.html and update parameter `linestyle='None'` in `mlines.Line2D`"
   ]
  },
  {
   "cell_type": "code",
   "execution_count": 94,
   "id": "b56ced71-c9ef-45e3-b4f8-27361d1fe5e7",
   "metadata": {
    "tags": []
   },
   "outputs": [
    {
     "data": {
      "image/png": "[encoded data removed]",
      "text/plain": [
       "<Figure size 640x480 with 1 Axes>"
      ]
     },
     "metadata": {},
     "output_type": "display_data"
    }
   ],
   "source": [
    "#Create the Figure\n",
    "#Set the figfure and axis\n",
    "fig , ax = plt.subplots()\n",
    "#Turn the axis labels off\n",
    "plt.axis('off')\n",
    "\n",
    "#Use Patches\n",
    "#Plot the three Data Sets\n",
    "ca.plot(ax=ax, \n",
    "        color='yellowgreen', \n",
    "        edgecolor='black')\n",
    "lulc_bbox.plot(ax=ax, \n",
    "               color='slategrey', \n",
    "               label='LULC Bbox')\n",
    "mt_whitney.plot(ax=ax, \n",
    "                color='aqua', \n",
    "                marker=\"^\", \n",
    "                markersize = 15,\n",
    "                label='Mt. Whitney')\n",
    "\n",
    "#Add a legend\n",
    "ca_patch = mpatches.Patch(color='slategrey', label='CA Boundary')\n",
    "lulc_patch = mpatches.Patch(color='yellowgreen', label='LU/LC Boundary')\n",
    "mt_patch = mlines.Line2D([], [],linestyle = 'None', color='aqua', marker='^',\n",
    "                          markersize=15, label='Mt. Whitney')\n",
    "\n",
    "ax.legend(handles=[ca_patch, lulc_patch, mt_patch])\n",
    "plt.show()\n"
   ]
  },
  {
   "cell_type": "markdown",
   "id": "a517afa7-5069-40e8-8673-4822b76e8fbc",
   "metadata": {},
   "source": [
    "## Final code\n",
    "Collect all the relevant code into the first blank cell of the notebook titled \"FINAL CODE\". This single cell will have the end-to-end workflow: from importing libraries and loading the data, to producing the graph. The only ouput of this cell should be the graph you produced in the previous exercise. \n",
    "\n",
    "Add divisions for relevant sections and comment appropriately.\n"
   ]
  }
 ],
 "metadata": {
  "kernelspec": {
   "display_name": "Anaconda 3 (Base)",
   "language": "python",
   "name": "base"
  },
  "language_info": {
   "codemirror_mode": {
    "name": "ipython",
    "version": 3
   },
   "file_extension": ".py",
   "mimetype": "text/x-python",
   "name": "python",
   "nbconvert_exporter": "python",
   "pygments_lexer": "ipython3",
   "version": "3.9.13"
  }
 },
 "nbformat": 4,
 "nbformat_minor": 5
}
